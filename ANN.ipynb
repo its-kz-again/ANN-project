{
 "cells": [
  {
   "cell_type": "code",
   "execution_count": 871,
   "metadata": {},
   "outputs": [],
   "source": [
    "import numpy as np\n",
    "import matplotlib.pyplot as plt\n",
    "import func"
   ]
  },
  {
   "cell_type": "code",
   "execution_count": 872,
   "metadata": {},
   "outputs": [],
   "source": [
    "# A function to plot images\n",
    "def show_image(img):\n",
    "    image = img.reshape((28, 28))\n",
    "    plt.imshow(image, 'gray')"
   ]
  },
  {
   "cell_type": "code",
   "execution_count": 873,
   "metadata": {},
   "outputs": [],
   "source": [
    "# Reading The Train Set\n",
    "train_images_file = open('train-images.idx3-ubyte', 'rb')\n",
    "train_images_file.seek(4)\n",
    "num_of_train_images = int.from_bytes(train_images_file.read(4), 'big')\n",
    "train_images_file.seek(16)\n",
    "\n",
    "train_labels_file = open('train-labels.idx1-ubyte', 'rb')\n",
    "train_labels_file.seek(8)\n",
    "\n",
    "train_set = []\n",
    "for n in range(num_of_train_images):\n",
    "    image = np.zeros((784, 1))\n",
    "    for i in range(784):\n",
    "        image[i, 0] = int.from_bytes(train_images_file.read(1), 'big') / 256\n",
    "\n",
    "    label_value = int.from_bytes(train_labels_file.read(1), 'big')\n",
    "    label = np.zeros((10, 1))\n",
    "    label[label_value, 0] = 1\n",
    "\n",
    "    train_set.append((image, label))\n",
    "\n",
    "# Reading The Test Set\n",
    "test_images_file = open('t10k-images.idx3-ubyte', 'rb')\n",
    "test_images_file.seek(4)\n",
    "\n",
    "test_labels_file = open('t10k-labels.idx1-ubyte', 'rb')\n",
    "test_labels_file.seek(8)\n",
    "\n",
    "num_of_test_images = int.from_bytes(test_images_file.read(4), 'big')\n",
    "test_images_file.seek(16)\n",
    "\n",
    "test_set = []\n",
    "for n in range(num_of_test_images):\n",
    "    image = np.zeros((784, 1))\n",
    "    for i in range(784):\n",
    "        image[i] = int.from_bytes(test_images_file.read(1), 'big') / 256\n",
    "\n",
    "    label_value = int.from_bytes(test_labels_file.read(1), 'big')\n",
    "    label = np.zeros((10, 1))\n",
    "    label[label_value, 0] = 1\n",
    "\n",
    "    test_set.append((image, label))"
   ]
  },
  {
   "cell_type": "code",
   "execution_count": 874,
   "metadata": {},
   "outputs": [
    {
     "name": "stdout",
     "output_type": "stream",
     "text": [
      "(784, 60000)\n",
      "(784, 100)\n",
      "(10, 100)\n"
     ]
    }
   ],
   "source": [
    "train_x = np.zeros((num_of_train_images, 784))\n",
    "train_y = np.zeros((num_of_train_images, 10))\n",
    "for i in range(num_of_train_images):\n",
    "    train_x[i] = train_set[i][0].T\n",
    "    train_y[i] = train_set[i][1].T\n",
    "\n",
    "train_x = train_x.reshape(train_x.shape[0],-1).T\n",
    "train_y = train_y.reshape(train_y.shape[0],-1).T \n",
    "\n",
    "print(train_x.shape)\n",
    "\n",
    "\n",
    "test_x = np.zeros((num_of_test_images, 784))\n",
    "test_y = np.zeros((num_of_test_images, 10))\n",
    "for i in range(num_of_test_images):\n",
    "    test_x[i] = test_set[i][0].T\n",
    "    test_y[i] = test_set[i][1].T\n",
    "    \n",
    "test_x = test_x.reshape(test_x.shape[0],-1).T\n",
    "test_y = test_y.reshape(test_y.shape[0],-1).T\n",
    "\n",
    "f_set = np.array(train_x.T[0:100].T)\n",
    "f_set_y = np.array(train_y.T[0:100].T)\n",
    "print(f_set.shape)\n",
    "print(f_set_y.shape)\n"
   ]
  },
  {
   "cell_type": "code",
   "execution_count": 875,
   "metadata": {},
   "outputs": [],
   "source": [
    "# np.random.seed(2)\n",
    "def initialize_parameters(layer_dims):\n",
    "#     np.random.seed(45)\n",
    "    parameters = {}\n",
    "    L = len(layer_dims)\n",
    "\n",
    "    for l in range(1, L):\n",
    "        parameters['W' + str(l)] = np.random.randn(layer_dims[l], layer_dims[l - 1]) * 0.01 \n",
    "        parameters['b' + str(l)] = np.zeros((layer_dims[l], 1))\n",
    "\n",
    "    return parameters"
   ]
  },
  {
   "cell_type": "markdown",
   "metadata": {},
   "source": [
    "# Second step"
   ]
  },
  {
   "cell_type": "code",
   "execution_count": 876,
   "metadata": {},
   "outputs": [],
   "source": [
    "def L_model_forward(X, parameters, activation):\n",
    "    caches = []\n",
    "    A = X\n",
    "    L = len(parameters) // 2\n",
    "\n",
    "    for l in range(1, L + 1):\n",
    "        A_prev = A\n",
    "        W = parameters['W' + str(l)]\n",
    "        b = parameters['b' + str(l)]\n",
    "        Z = np.dot(W, A_prev) + b\n",
    "        cache = (A_prev, W, b, Z)\n",
    "        if activation == \"sigmoid\":\n",
    "            A = func.sigmoid(Z)\n",
    "        elif activation == \"relu\":\n",
    "            A = func.relu(Z)\n",
    "\n",
    "        caches.append(cache)\n",
    "\n",
    "    AL = A\n",
    "    return AL, caches"
   ]
  },
  {
   "cell_type": "code",
   "execution_count": 885,
   "metadata": {},
   "outputs": [
    {
     "data": {
      "image/png": "[encoded data removed]",
      "text/plain": [
       "<Figure size 432x288 with 1 Axes>"
      ]
     },
     "metadata": {
      "needs_background": "light"
     },
     "output_type": "display_data"
    },
    {
     "name": "stdout",
     "output_type": "stream",
     "text": [
      "accuracy = 10%\n"
     ]
    }
   ],
   "source": [
    "# Plotting an image\n",
    "show_image(train_set[1][0])\n",
    "plt.show()\n",
    "\n",
    "# second step\n",
    "layer_dim = [784, 16, 16, 10]\n",
    "param = initialize_parameters(layer_dim)\n",
    "ans, c = L_model_forward(f_set, param, \"sigmoid\")\n",
    "\n",
    "yhat = np.argmax(ans, axis=0)\n",
    "y = np.argmax(f_set_y, axis=0)\n",
    "# print(yhat)\n",
    "correct = np.count_nonzero(y - yhat == 0)\n",
    "acc = (correct/f_set_y.shape[1])*100\n",
    "\n",
    "print(\"accuracy = {:.2g}%\".format(acc))\n"
   ]
  },
  {
   "cell_type": "markdown",
   "metadata": {},
   "source": [
    "# Third step"
   ]
  },
  {
   "cell_type": "code",
   "execution_count": 877,
   "metadata": {},
   "outputs": [],
   "source": [
    "def compute_cost(AL, Y):\n",
    "\n",
    "    m = Y.shape[1]\n",
    "    \n",
    "    cost = np.sum((AL - Y)**2)\n",
    "\n",
    "    cost = np.squeeze(cost)  # To make sure your cost's shape is what we expect (e.g. this turns [[17]] into 17).\n",
    "\n",
    "    return cost\n"
   ]
  },
  {
   "cell_type": "code",
   "execution_count": 886,
   "metadata": {},
   "outputs": [],
   "source": [
    "def initialize_grads(layer_dim):\n",
    "    grads = {}\n",
    "    L = len(layer_dim)\n",
    "\n",
    "    for l in range(1, L):\n",
    "        grads['dW' + str(l)] = np.zeros((layer_dim[l], layer_dim[l-1]))\n",
    "        grads['db' + str(l)] = np.zeros((layer_dim[l], 1))\n",
    "        grads['dA' + str(l)] = np.zeros((layer_dim[l], 1))\n",
    "        \n",
    "#     grads['dA' + str(L-1)] = np.zeros((layer_dim[L-1], 1))\n",
    "    \n",
    "    return grads\n",
    "    "
   ]
  },
  {
   "cell_type": "code",
   "execution_count": 972,
   "metadata": {},
   "outputs": [],
   "source": [
    "def L_model_backward(AL, Y, caches, activation, layer_dim, grads):\n",
    "\n",
    "    L = len(caches) \n",
    "    \n",
    "    Y = Y.reshape(AL.shape) \n",
    "    \n",
    "    current_cache = caches[L-1]\n",
    "    #for dAL\n",
    "    for i in range(layer_dim[L]):\n",
    "        grads['dA' + str(L)][i] = (2 * AL[i] - 2 * Y[i])\n",
    "        \n",
    "     \n",
    "    for l in reversed(range(1, L + 1)): \n",
    "        \n",
    "        current_cache = caches[l-1]\n",
    "      \n",
    "        dZ = np.zeros((layer_dim[l], 1))\n",
    "        \n",
    "        \n",
    "        if activation == \"relu\":\n",
    "            for i in range(layer_dim[l]):\n",
    "                dZ[i] += func.relu_backward(grads['dA' + str(l)][i], current_cache[3][i])\n",
    "                \n",
    "\n",
    "        elif activation == \"sigmoid\":\n",
    "            for i in range(layer_dim[l]):\n",
    "                dZ[i] += func.sigmoid_backward(grads['dA' + str(l)][i], current_cache[3][i])\n",
    "               \n",
    "     \n",
    "        \n",
    "        for i in range(layer_dim[l]):\n",
    "            for j in range(layer_dim[l-1]):\n",
    "                grads[\"dW\" + str(l)][i,j] += dZ[i] * current_cache[0][j] \n",
    "        \n",
    "        for i in range(layer_dim[l]):\n",
    "             grads[\"db\" + str(l)][i] = dZ[i]\n",
    "\n",
    "        if l != 1:\n",
    "#         grads[\"dA\" + str(L - 1)] = np.zeros((layer_dim[L-2], m))\n",
    "            for i in range(layer_dim[l-1]):\n",
    "                for j in range(layer_dim[l]):\n",
    "                    grads[\"dA\" + str(l - 1)][i] += current_cache[1][j, i] * dZ[j] \n",
    "\n",
    "\n",
    "        \n",
    "    return grads"
   ]
  },
  {
   "cell_type": "code",
   "execution_count": 888,
   "metadata": {},
   "outputs": [],
   "source": [
    "def update_parameters(parameters, grads, learning_rate, batch_size):\n",
    "    \n",
    "    L = len(parameters) // 2 \n",
    "        \n",
    "    for l in range(L):\n",
    "        parameters[\"W\" + str(l+1)] = parameters[\"W\" + str(l+1)] - (learning_rate * grads[\"dW\" + str(l + 1)]/batch_size)\n",
    "        parameters[\"b\" + str(l+1)] = parameters[\"b\" + str(l+1)] - (learning_rate * grads[\"db\" + str(l + 1)]/batch_size)\n",
    "    \n",
    "    \n",
    "    return parameters "
   ]
  },
  {
   "cell_type": "code",
   "execution_count": 973,
   "metadata": {},
   "outputs": [],
   "source": [
    "def model(X, Y, num_epochs, learning_rate, batch_size):\n",
    "    \n",
    "    layer_dim = [784, 16, 16, 10]\n",
    "    param = initialize_parameters(layer_dim)\n",
    "   \n",
    "    \n",
    "    costs = []\n",
    "    \n",
    "    yhat = np.zeros((10, X.shape[1]))\n",
    "    \n",
    "    for i in range(num_epochs):\n",
    "        for j in range(int(X.shape[1]/batch_size)):\n",
    "            train_x = X.T[j * batch_size: (j+1) * batch_size].T\n",
    "            train_y = Y.T[j * batch_size: (j+1) * batch_size].T\n",
    "            \n",
    "#             print(j)\n",
    "            grads = initialize_grads(layer_dim)\n",
    "            for k in range(batch_size):\n",
    "                data_x = train_x.T[k].T\n",
    "                data_x = data_x.reshape(784, 1)\n",
    "                data_y = train_y.T[k].T\n",
    "                data_y = data_y.reshape(10, 1)\n",
    "                \n",
    "                AL, c = L_model_forward(data_x, param, \"sigmoid\")\n",
    "                yhat[: , j * batch_size + k:j * batch_size + k + 1] = AL\n",
    "                cost = compute_cost(AL , data_y)\n",
    "                grads = L_model_backward(AL, data_y, c, \"sigmoid\", layer_dim, grads)\n",
    "\n",
    "\n",
    "            param = update_parameters(param, grads, learning_rate, batch_size)\n",
    "     \n",
    "    \n",
    "        print(cost)\n",
    "        costs.append(cost)\n",
    "    \n",
    "    \n",
    "    correct = 0\n",
    "    for i in range(X.shape[1]):\n",
    "        AL, c = L_model_forward(X[:,i:i+1], param, \"sigmoid\")  \n",
    "        indexi = np.argmax(AL)\n",
    "        y = np.argmax(Y[:,i:i+1])\n",
    "        if indexi == y:\n",
    "            correct += 1\n",
    "    \n",
    "    acc = (correct/Y.shape[1])*100\n",
    "\n",
    "\n",
    "    print(\"accuracy = {:.2g}%\".format(acc))\n",
    "    \n",
    "        \n",
    "\n",
    "\n",
    "        \n",
    "    return costs\n"
   ]
  },
  {
   "cell_type": "code",
   "execution_count": 974,
   "metadata": {},
   "outputs": [
    {
     "name": "stdout",
     "output_type": "stream",
     "text": [
      "0.8768893074775704\n",
      "0.8722932785065243\n",
      "0.8698999718576552\n",
      "0.8676490538571039\n",
      "0.8654994628819108\n",
      "0.8634546527487453\n",
      "0.8615121617754155\n",
      "0.859664866074942\n",
      "0.8579031191615729\n",
      "0.85621642046229\n",
      "0.8545946629617798\n",
      "0.8530290852756236\n",
      "0.851513008172571\n",
      "0.8500423558103273\n",
      "0.8486158863122424\n",
      "0.8472350209680661\n",
      "0.8459031860903475\n",
      "0.8446246358935805\n",
      "0.8434027811846339\n",
      "0.842238224715895\n",
      "accuracy = 13%\n"
     ]
    }
   ],
   "source": [
    "import time\n",
    "strat = time.time()\n",
    "f_set = train_x.T[:100].T\n",
    "f_set_y = train_y.T[:100].T\n",
    "c = model(f_set, f_set_y, 20, 1, 10)\n",
    "end = time.time()"
   ]
  },
  {
   "cell_type": "code",
   "execution_count": 975,
   "metadata": {},
   "outputs": [
    {
     "name": "stdout",
     "output_type": "stream",
     "text": [
      "time = 5.302299543221792 minute\n"
     ]
    }
   ],
   "source": [
    "print(\"time =\", (end - strat)/60 , \"minute\")"
   ]
  },
  {
   "cell_type": "code",
   "execution_count": 804,
   "metadata": {},
   "outputs": [],
   "source": [
    "def plot_result(info): \n",
    "#   print(len(info))\n",
    "  plt.plot([i for i in range(1,len(info)+1)] , info , label='cost')\n",
    "  plt.legend(loc=\"upper right\", frameon=False)\n",
    "  plt.show()\n",
    " \n"
   ]
  },
  {
   "cell_type": "code",
   "execution_count": 976,
   "metadata": {},
   "outputs": [
    {
     "data": {
      "image/png": "[encoded data removed]",
      "text/plain": [
       "<Figure size 432x288 with 1 Axes>"
      ]
     },
     "metadata": {
      "needs_background": "light"
     },
     "output_type": "display_data"
    }
   ],
   "source": [
    "plot_result(c)"
   ]
  },
  {
   "cell_type": "markdown",
   "metadata": {},
   "source": [
    "# 4th step"
   ]
  },
  {
   "cell_type": "code",
   "execution_count": 955,
   "metadata": {},
   "outputs": [],
   "source": [
    "def L_model_backward_V(AL, Y, caches, activation, layer_dim, grads):\n",
    "\n",
    "    L = len(caches) # the number of layers \n",
    "    Y = Y.reshape(AL.shape) # after this line, Y is the same shape as AL\n",
    "    \n",
    "    current_cache = caches[L-1]\n",
    "    #for dAL\n",
    "    grads['dA' + str(L)] = (2 * AL - 2 * Y)\n",
    "        \n",
    "     \n",
    "    for l in reversed(range(1, L + 1)): \n",
    "        \n",
    "        current_cache = caches[l-1]\n",
    "      \n",
    "        dZ = np.zeros((layer_dim[l], 1))\n",
    "        \n",
    "        \n",
    "        if activation == \"relu\":\n",
    "            dZ = func.relu_backward(grads['dA' + str(l)], current_cache[3])\n",
    "#             for i in range(layer_dim[l]):\n",
    "#                 dZ[i] += grads['dA' + str(l)][i] * funcs.relu_backward(grads['dA' + str(l)][i], current_cache[3][i])\n",
    "                \n",
    "\n",
    "        elif activation == \"sigmoid\":\n",
    "            dZ =  func.sigmoid_backward(grads['dA' + str(l)], current_cache[3])\n",
    "#             for i in range(layer_dim[l]):\n",
    "#                 dZ[i] += grads['dA' + str(l)][i] * funcs.sigmoid_backward(grads['dA' + str(l)][i], current_cache[3][i])\n",
    "               \n",
    "#         print(\"grads:\", np.sum(grads[\"dW\" + str(l)]), grads[\"db\" + str(l)] )\n",
    "        grads[\"dW\" + str(l)] += dZ @ np.transpose(current_cache[0])\n",
    "        grads[\"db\" + str(l)] = dZ\n",
    "        if l != 1:\n",
    "            grads[\"dA\" + str(l - 1)] = np.transpose(current_cache[1]) @ dZ\n",
    "    \n",
    "\n",
    "\n",
    "        \n",
    "    return grads"
   ]
  },
  {
   "cell_type": "code",
   "execution_count": 956,
   "metadata": {},
   "outputs": [],
   "source": [
    "def model_V(X, Y, num_epochs, learning_rate, batch_size):\n",
    "    \n",
    "    layer_dim = [784, 16, 16, 10]\n",
    "    param = initialize_parameters(layer_dim)\n",
    "   \n",
    "    costs = []\n",
    "    \n",
    "    yhat = np.zeros((10, X.shape[1]))\n",
    "    \n",
    "    for i in range(num_epochs):\n",
    "        for j in range(int(X.shape[1]/batch_size)):\n",
    "            train_x = X[: , j * batch_size: (j+1) * batch_size]\n",
    "            train_y = Y[: , j * batch_size: (j+1) * batch_size]\n",
    "\n",
    "            grads = initialize_grads(layer_dim)\n",
    "            for k in range(batch_size):\n",
    "                data_x = train_x[:,k:k+1]\n",
    "                data_y = train_y[:,k:k+1]\n",
    "                \n",
    "                AL, c = L_model_forward(data_x, param, \"sigmoid\")\n",
    "#                 yhat[: , j * batch_size + k:j * batch_size + k + 1] = AL\n",
    "                cost = compute_cost(AL , data_y)\n",
    "            \n",
    "\n",
    "                grads = L_model_backward_V(AL, data_y, c, \"sigmoid\", layer_dim, grads)\n",
    "\n",
    "\n",
    "            param = update_parameters(param, grads, learning_rate, batch_size)\n",
    "    \n",
    "        print(cost)\n",
    "        costs.append(cost)\n",
    "    \n",
    "    correct = 0\n",
    "    for i in range(X.shape[1]):\n",
    "        AL, c = L_model_forward(X[:,i:i+1], param, \"sigmoid\")  \n",
    "        indexi = np.argmax(AL)\n",
    "        y = np.argmax(Y[:,i:i+1])\n",
    "        if indexi == y:\n",
    "            correct += 1\n",
    "    \n",
    "\n",
    " \n",
    "    acc = (correct/Y.shape[1])*100\n",
    "\n",
    "    print(\"\\n\\naccuracy = {:.2g}%\".format(acc))\n",
    "    \n",
    "        \n",
    "\n",
    "\n",
    "        \n",
    "    return costs, param"
   ]
  },
  {
   "cell_type": "code",
   "execution_count": 957,
   "metadata": {},
   "outputs": [
    {
     "name": "stdout",
     "output_type": "stream",
     "text": [
      "0.8729331363848696\n",
      "0.8560972548347515\n",
      "0.8508321830611582\n",
      "0.8488791971898711\n",
      "0.8480285465059372\n",
      "0.8475491623198078\n",
      "0.8472119354014285\n",
      "0.8469400248179146\n",
      "0.8467032484017232\n",
      "0.8464874365486524\n",
      "0.8462849352323748\n",
      "0.8460912205078852\n",
      "0.8459034690490432\n",
      "0.8457198581944222\n",
      "0.8455391851791996\n",
      "0.8453606451870126\n",
      "0.8451836957365271\n",
      "0.8450079708206898\n",
      "0.8448332248985602\n",
      "0.8446592953513201\n",
      "0.8444860766435804\n",
      "0.8443135020641511\n",
      "0.8441415304691412\n",
      "0.8439701363861084\n",
      "0.843799302416596\n",
      "0.8436290132392358\n",
      "0.8434592507496217\n",
      "0.843289990025466\n",
      "0.8431211959059242\n",
      "0.8429528200407939\n",
      "0.8427847983101368\n",
      "0.8426170485451515\n",
      "0.842449468501663\n",
      "0.8422819340515514\n",
      "0.8421142975669569\n",
      "0.8419463864786018\n",
      "0.8417780019940282\n",
      "0.841608917964653\n",
      "0.8414388798927646\n",
      "0.8412676040712295\n",
      "0.8410947768499937\n",
      "0.8409200540245961\n",
      "0.8407430603429823\n",
      "0.8405633891279538\n",
      "0.8403806020137229\n",
      "0.8401942287962125\n",
      "0.8400037673980686\n",
      "0.8398086839507714\n",
      "0.839608412997835\n",
      "0.8394023578248605\n",
      "0.8391898909242248\n",
      "0.8389703546044759\n",
      "0.8387430617571261\n",
      "0.8385072967965703\n",
      "0.8382623167923362\n",
      "0.8380073528168754\n",
      "0.8377416115366645\n",
      "0.8374642770794708\n",
      "0.8371745132162443\n",
      "0.836871465902022\n",
      "0.8365542662263593\n",
      "0.8362220338296479\n",
      "0.8358738808469207\n",
      "0.8355089164445982\n",
      "0.8351262520174151\n",
      "0.8347250071114352\n",
      "0.8343043161335713\n",
      "0.8338633358971398\n",
      "0.8334012540354918\n",
      "0.83291729829049\n",
      "0.8324107466486336\n",
      "0.8318809382543366\n",
      "0.8313272849772487\n",
      "0.8307492834492215\n",
      "0.830146527318162\n",
      "0.8295187193931067\n",
      "0.8288656832809358\n",
      "0.828187374044617\n",
      "0.8274838873507759\n",
      "0.826755466525952\n",
      "0.8260025069111618\n",
      "0.8252255568975069\n",
      "0.824425315044347\n",
      "0.8236026227269027\n",
      "0.8227584518307235\n",
      "0.8218938871023405\n",
      "0.8210101028721837\n",
      "0.8201083339784013\n",
      "0.8191898408272243\n",
      "0.8182558686134314\n",
      "0.8173076007781046\n",
      "0.8163461067835608\n",
      "0.8153722842195829\n",
      "0.8143867951026045\n",
      "0.813389995971585\n",
      "0.81238186100195\n",
      "0.8113618968327585\n",
      "0.8103290471131922\n",
      "0.8092815839055056\n",
      "0.8082169820227036\n",
      "0.8071317711377541\n",
      "0.8060213591241405\n",
      "0.8048798187027005\n",
      "0.8036996283596762\n",
      "0.8024713582263259\n",
      "0.8011832931980133\n",
      "0.7998209907606628\n",
      "0.7983667824697404\n",
      "0.7967992493827384\n",
      "0.7950927365773459\n",
      "0.7932170209798166\n",
      "0.7911373021674546\n",
      "0.7888147225342657\n",
      "0.786207594176258\n",
      "0.7832733602925525\n",
      "0.779971036728741\n",
      "0.7762635676561478\n",
      "0.7721194200260993\n",
      "0.7675130488605821\n",
      "0.7624245338618609\n",
      "0.7568393024099722\n",
      "0.7507489121793622\n",
      "0.7441532059968213\n",
      "0.7370631438037827\n",
      "0.7295029675340567\n",
      "0.721510599051105\n",
      "0.71313615748037\n",
      "0.7044393934423674\n",
      "0.695486918313183\n",
      "0.6863493140337364\n",
      "0.6770970384958082\n",
      "0.6677929347535749\n",
      "0.6584783955837287\n",
      "0.6491506565619775\n",
      "0.6397327252474824\n",
      "0.6300490435992961\n",
      "0.6198390768571311\n",
      "0.6088458867025943\n",
      "0.5969532920596128\n",
      "0.5842299079563136\n",
      "0.57078384911798\n",
      "0.5565562102366405\n",
      "0.5412114350680791\n",
      "0.5241352832549886\n",
      "0.5045665708352836\n",
      "0.48205110018156944\n",
      "0.4570652524242154\n",
      "0.4308316123520764\n",
      "0.4044717060507407\n",
      "0.3786769123679549\n",
      "0.35382532155237284\n",
      "0.3301075340332357\n",
      "0.30758426222921914\n",
      "0.286217826621045\n",
      "0.2659074434389206\n",
      "0.24654015695779508\n",
      "0.228053601325027\n",
      "0.21048257774189463\n",
      "0.19395280809891877\n",
      "0.17862097983615552\n",
      "0.16460397475756672\n",
      "0.15194424053275107\n",
      "0.1406176600054332\n",
      "0.13055669277913454\n",
      "0.12166907296632715\n",
      "0.11384955555830106\n",
      "0.10698778081486547\n",
      "0.10097421786380614\n",
      "0.09570463305636166\n",
      "0.09108305022726351\n",
      "0.08702328657948998\n",
      "0.08344935255991437\n",
      "0.08029509299245202\n",
      "0.07750341730961592\n",
      "0.07502537707160552\n",
      "0.0728192478299094\n",
      "0.07084968263937978\n",
      "0.0690869240390155\n",
      "0.0675059696217453\n",
      "0.0660854721891041\n",
      "0.06480608755160824\n",
      "0.06364818020489081\n",
      "0.06258949443290025\n",
      "0.06160432910634208\n",
      "0.06066580880238971\n",
      "0.059751140974188224\n",
      "0.058847471533927734\n",
      "0.05795552158771361\n",
      "0.05708976774389858\n",
      "0.05627498035798944\n",
      "0.05553887842929951\n",
      "0.054903581748394166\n",
      "0.05438213637107351\n",
      "0.05397951905202248\n",
      "0.05369312121918274\n",
      "0.05351367574988348\n",
      "0.053428245452370855\n",
      "0.05342467515588754\n",
      "0.053496726172801184\n",
      "0.053649659356426405\n",
      "\n",
      "\n",
      "accuracy = 66%\n"
     ]
    }
   ],
   "source": [
    "start2 = time.time()\n",
    "f_set = train_x.T[:100].T\n",
    "f_set_y = train_y.T[:100].T\n",
    "c, p = model_V(f_set, f_set_y, 200, 1, 10)\n",
    "end2 = time.time()"
   ]
  },
  {
   "cell_type": "code",
   "execution_count": 958,
   "metadata": {},
   "outputs": [
    {
     "name": "stdout",
     "output_type": "stream",
     "text": [
      "time = 0.3352854013442993 minute\n"
     ]
    }
   ],
   "source": [
    "print(\"time =\", (end2 - start2)/60 , \"minute\")"
   ]
  },
  {
   "cell_type": "code",
   "execution_count": 959,
   "metadata": {},
   "outputs": [
    {
     "data": {
      "image/png": "[encoded data removed]",
      "text/plain": [
       "<Figure size 432x288 with 1 Axes>"
      ]
     },
     "metadata": {
      "needs_background": "light"
     },
     "output_type": "display_data"
    }
   ],
   "source": [
    "plot_result(c)"
   ]
  },
  {
   "cell_type": "code",
   "execution_count": 945,
   "metadata": {},
   "outputs": [
    {
     "data": {
      "image/png": "[encoded data removed]",
      "text/plain": [
       "<Figure size 432x288 with 1 Axes>"
      ]
     },
     "metadata": {
      "needs_background": "light"
     },
     "output_type": "display_data"
    }
   ],
   "source": [
    "plot_result(c)"
   ]
  },
  {
   "cell_type": "markdown",
   "metadata": {},
   "source": [
    "# 5th step"
   ]
  },
  {
   "cell_type": "code",
   "execution_count": 960,
   "metadata": {},
   "outputs": [
    {
     "name": "stdout",
     "output_type": "stream",
     "text": [
      "0.9139351213019384\n",
      "0.9134173538752752\n",
      "0.9371774116113276\n",
      "0.8766694949760762\n",
      "0.16803633386615294\n",
      "\n",
      "\n",
      "accuracy = 89%\n",
      "\n",
      "\n",
      "accuracy for test = 89%\n"
     ]
    }
   ],
   "source": [
    "start3 = time.time()\n",
    "#training\n",
    "f_set = train_x\n",
    "f_set_y = train_y\n",
    "c, p = model_V(f_set, f_set_y, 5, 1, 50)\n",
    "\n",
    "\n",
    "#test\n",
    "correct = 0\n",
    "for i in range(test_x.shape[1]):\n",
    "    AL, cache = L_model_forward(test_x[:,i:i+1], p, \"sigmoid\")  \n",
    "    indexi = np.argmax(AL)\n",
    "    y = np.argmax(test_y[:,i:i+1])\n",
    "    if indexi == y:\n",
    "        correct += 1\n",
    "\n",
    "     \n",
    "acc = (correct/test_y.shape[1])*100\n",
    "\n",
    "print(\"\\n\\naccuracy for test = {:.2g}%\".format(acc))\n",
    "end3 = time.time()"
   ]
  },
  {
   "cell_type": "code",
   "execution_count": 961,
   "metadata": {},
   "outputs": [
    {
     "name": "stdout",
     "output_type": "stream",
     "text": [
      "time = 4.820506230990092 minute\n"
     ]
    }
   ],
   "source": [
    "print(\"time =\", (end3 - start3)/60 , \"minute\")"
   ]
  },
  {
   "cell_type": "markdown",
   "metadata": {},
   "source": [
    "# plot for training set"
   ]
  },
  {
   "cell_type": "code",
   "execution_count": 962,
   "metadata": {},
   "outputs": [
    {
     "data": {
      "image/png": "[encoded data removed]",
      "text/plain": [
       "<Figure size 432x288 with 1 Axes>"
      ]
     },
     "metadata": {
      "needs_background": "light"
     },
     "output_type": "display_data"
    }
   ],
   "source": [
    "\n",
    "plot_result(c)"
   ]
  },
  {
   "cell_type": "markdown",
   "metadata": {},
   "source": [
    "# امتیازی"
   ]
  },
  {
   "cell_type": "code",
   "execution_count": 690,
   "metadata": {},
   "outputs": [],
   "source": [
    "def right_shift(im):\n",
    "    for i in range(4):\n",
    "        im = np.c_[im[:,-1],im[:,:-1]]\n",
    "    return im    "
   ]
  },
  {
   "cell_type": "code",
   "execution_count": 697,
   "metadata": {},
   "outputs": [],
   "source": [
    "shifted_test_set = []\n",
    "for n in range(test_y.shape[1]):\n",
    "    image = np.zeros((28,28))\n",
    "    for i in range(784):\n",
    "        image[i // 28][i % 28] = test_x[i:i+1 ,n:n+1]\n",
    "\n",
    "    \n",
    "    image = right_shift(image).flatten().reshape(-1,1)    \n",
    "    \n",
    "\n",
    "    shifted_test_set.append(image)"
   ]
  },
  {
   "cell_type": "code",
   "execution_count": 699,
   "metadata": {},
   "outputs": [],
   "source": [
    "shifted_test_set_x = np.transpose(np.squeeze(np.array(shifted_test_set)))\n"
   ]
  },
  {
   "cell_type": "code",
   "execution_count": 703,
   "metadata": {},
   "outputs": [
    {
     "data": {
      "image/png": "[encoded data removed]",
      "text/plain": [
       "<Figure size 432x288 with 1 Axes>"
      ]
     },
     "metadata": {
      "needs_background": "light"
     },
     "output_type": "display_data"
    }
   ],
   "source": [
    "show_image(np.transpose(shifted_test_set_x[:,9]))\n",
    "plt.show()"
   ]
  },
  {
   "cell_type": "code",
   "execution_count": 963,
   "metadata": {},
   "outputs": [
    {
     "name": "stdout",
     "output_type": "stream",
     "text": [
      "0.9138987006131666\n",
      "0.9134001266787981\n",
      "0.930390503304912\n",
      "0.9310955397914067\n",
      "0.7135111955377591\n",
      "\n",
      "\n",
      "accuracy = 85%\n",
      "\n",
      "\n",
      "accuracy for test = 27%\n"
     ]
    }
   ],
   "source": [
    "start4 = time.time()\n",
    "#training\n",
    "f_set = train_x\n",
    "f_set_y = train_y\n",
    "c, p = model_V(f_set, f_set_y, 5, 1, 50)\n",
    "\n",
    "\n",
    "#test\n",
    "correct = 0\n",
    "for i in range(test_x.shape[1]):\n",
    "    AL, cache = L_model_forward(shifted_test_set_x[:,i:i+1], p, \"sigmoid\")  \n",
    "    indexi = np.argmax(AL)\n",
    "    y = np.argmax(test_y[:,i:i+1])\n",
    "    if indexi == y:\n",
    "        correct += 1\n",
    "     \n",
    "acc = (correct/test_y.shape[1])*100\n",
    "print(\"\\n\\naccuracy for test = {:.2g}%\".format(acc))\n",
    "end4 = time.time()"
   ]
  },
  {
   "cell_type": "code",
   "execution_count": 964,
   "metadata": {},
   "outputs": [
    {
     "name": "stdout",
     "output_type": "stream",
     "text": [
      "time = 4.828178262710571 minute\n"
     ]
    }
   ],
   "source": [
    "print(\"time =\", (end4 - start4)/60 , \"minute\")"
   ]
  },
  {
   "cell_type": "code",
   "execution_count": 965,
   "metadata": {},
   "outputs": [
    {
     "data": {
      "image/png": "[encoded data removed]",
      "text/plain": [
       "<Figure size 432x288 with 1 Axes>"
      ]
     },
     "metadata": {
      "needs_background": "light"
     },
     "output_type": "display_data"
    }
   ],
   "source": [
    "plot_result(c)"
   ]
  },
  {
   "cell_type": "markdown",
   "metadata": {},
   "source": [
    "# امتیازی2"
   ]
  },
  {
   "cell_type": "code",
   "execution_count": 966,
   "metadata": {},
   "outputs": [],
   "source": [
    "def L_model_forward_2(X, parameters, activation):\n",
    "    caches = []\n",
    "    A = X\n",
    "    L = len(parameters) // 2\n",
    "\n",
    "    for l in range(1, L + 1):\n",
    "        A_prev = A\n",
    "        W = parameters['W' + str(l)]\n",
    "        b = parameters['b' + str(l)]\n",
    "        Z = np.dot(W, A_prev) + b\n",
    "        cache = (A_prev, W, b, Z)\n",
    "        if activation[l-1] == \"sigmoid\":\n",
    "            A = func.sigmoid(Z)\n",
    "        elif activation[l-1] == \"relu\":\n",
    "            A = func.relu(Z)\n",
    "\n",
    "        caches.append(cache)\n",
    "\n",
    "    AL = A\n",
    "    return AL, caches"
   ]
  },
  {
   "cell_type": "code",
   "execution_count": 967,
   "metadata": {},
   "outputs": [],
   "source": [
    "def L_model_backward_2(AL, Y, caches, activation, layer_dim, grads):\n",
    "\n",
    "    L = len(caches) # the number of layers \n",
    "    Y = Y.reshape(AL.shape) # after this line, Y is the same shape as AL\n",
    "    \n",
    "    current_cache = caches[L-1]\n",
    "    #for dAL\n",
    "    grads['dA' + str(L)] = (2 * AL - 2 * Y)\n",
    "        \n",
    "     \n",
    "    for l in reversed(range(1, L + 1)): \n",
    "        \n",
    "        current_cache = caches[l-1]\n",
    "      \n",
    "        dZ = np.zeros((layer_dim[l], 1))\n",
    "        \n",
    "        \n",
    "        if activation[l-1] == \"relu\":\n",
    "            dZ = func.relu_backward(grads['dA' + str(l)], current_cache[3])\n",
    "#             for i in range(layer_dim[l]):\n",
    "#                 dZ[i] += grads['dA' + str(l)][i] * funcs.relu_backward(grads['dA' + str(l)][i], current_cache[3][i])\n",
    "                \n",
    "\n",
    "        elif activation[l-1] == \"sigmoid\":\n",
    "            dZ =  func.sigmoid_backward(grads['dA' + str(l)], current_cache[3])\n",
    "#             for i in range(layer_dim[l]):\n",
    "#                 dZ[i] += grads['dA' + str(l)][i] * funcs.sigmoid_backward(grads['dA' + str(l)][i], current_cache[3][i])\n",
    "               \n",
    "     \n",
    "        grads[\"dW\" + str(l)] += dZ @ np.transpose(current_cache[0])\n",
    "        grads[\"db\" + str(l)] = dZ\n",
    "        if l != 1:\n",
    "            grads[\"dA\" + str(l - 1)] = np.transpose(current_cache[1]) @ dZ\n",
    "    \n",
    "\n",
    "\n",
    "        \n",
    "    return grads"
   ]
  },
  {
   "cell_type": "code",
   "execution_count": 968,
   "metadata": {},
   "outputs": [],
   "source": [
    "def model_V_2(X, Y, num_epochs, learning_rate, batch_size):\n",
    "    \n",
    "    layer_dim = [784, 16, 16, 10]\n",
    "    param = initialize_parameters(layer_dim)\n",
    "   \n",
    "    costs = []\n",
    "    \n",
    "    yhat = np.zeros((10, X.shape[1]))\n",
    "    \n",
    "    for i in range(num_epochs):\n",
    "        for j in range(int(X.shape[1]/batch_size)):\n",
    "            train_x = X[: , j * batch_size: (j+1) * batch_size]\n",
    "            train_y = Y[: , j * batch_size: (j+1) * batch_size]\n",
    "\n",
    "            grads = initialize_grads(layer_dim)\n",
    "            for k in range(batch_size):\n",
    "                data_x = train_x[:,k:k+1]\n",
    "                data_y = train_y[:,k:k+1]\n",
    "                \n",
    "                AL, c = L_model_forward_2(data_x, param, [\"relu\", \"relu\", \"sigmoid\"])\n",
    "#                 yhat[: , j * batch_size + k:j * batch_size + k + 1] = AL\n",
    "                cost = compute_cost(AL , data_y)\n",
    "            \n",
    "\n",
    "                grads = L_model_backward_V_2(AL, data_y, c, [\"relu\", \"relu\", \"sigmoid\"], layer_dim, grads)\n",
    "\n",
    "\n",
    "            param = update_parameters(param, grads, learning_rate, batch_size)\n",
    "    \n",
    "        print(cost)\n",
    "        costs.append(cost)\n",
    "    \n",
    "    correct = 0\n",
    "    for i in range(X.shape[1]):\n",
    "        AL, c = L_model_forward_2(X[:,i:i+1], param, [\"relu\", \"relu\", \"sigmoid\"])  \n",
    "        indexi = np.argmax(AL)\n",
    "        y = np.argmax(Y[:,i:i+1])\n",
    "        if indexi == y:\n",
    "            correct += 1\n",
    "    \n",
    "\n",
    " \n",
    "    acc = (correct/Y.shape[1])*100\n",
    "\n",
    "    print(\"\\n\\naccuracy = {:.2g}%\".format(acc))\n",
    "    \n",
    "        \n",
    "\n",
    "\n",
    "        \n",
    "    return costs, param"
   ]
  },
  {
   "cell_type": "code",
   "execution_count": 969,
   "metadata": {},
   "outputs": [
    {
     "name": "stdout",
     "output_type": "stream",
     "text": [
      "0.9139360977045908\n",
      "0.9134408270671889\n",
      "0.9433280315616888\n",
      "0.8552986420721649\n",
      "0.47965089125207794\n",
      "\n",
      "\n",
      "accuracy = 88%\n",
      "\n",
      "\n",
      "accuracy for test = 57%\n"
     ]
    }
   ],
   "source": [
    "start5 = time.time()\n",
    "#training\n",
    "f_set = train_x\n",
    "f_set_y = train_y\n",
    "c, p = model_V(f_set, f_set_y, 5, 1, 50)\n",
    "\n",
    "\n",
    "#test\n",
    "correct = 0\n",
    "for i in range(test_x.shape[1]):\n",
    "    AL, cache = L_model_forward_2(test_x[:,i:i+1], p, [\"relu\", \"relu\", \"sigmoid\"])  \n",
    "    indexi = np.argmax(AL)\n",
    "    y = np.argmax(test_y[:,i:i+1])\n",
    "    if indexi == y:\n",
    "        correct += 1\n",
    "\n",
    "     \n",
    "acc = (correct/test_y.shape[1])*100\n",
    "\n",
    "print(\"\\n\\naccuracy for test = {:.2g}%\".format(acc))\n",
    "end5 = time.time()"
   ]
  },
  {
   "cell_type": "code",
   "execution_count": 970,
   "metadata": {},
   "outputs": [
    {
     "name": "stdout",
     "output_type": "stream",
     "text": [
      "time = 4.7692619880040485 minute\n"
     ]
    }
   ],
   "source": [
    "print(\"time =\", (end5 - start5)/60 , \"minute\")"
   ]
  },
  {
   "cell_type": "code",
   "execution_count": 971,
   "metadata": {},
   "outputs": [
    {
     "data": {
      "image/png": "[encoded data removed]",
      "text/plain": [
       "<Figure size 432x288 with 1 Axes>"
      ]
     },
     "metadata": {
      "needs_background": "light"
     },
     "output_type": "display_data"
    }
   ],
   "source": [
    "plot_result(c)"
   ]
  },
  {
   "cell_type": "code",
   "execution_count": null,
   "metadata": {},
   "outputs": [],
   "source": []
  }
 ],
 "metadata": {
  "kernelspec": {
   "display_name": "Python 3",
   "language": "python",
   "name": "python3"
  },
  "language_info": {
   "codemirror_mode": {
    "name": "ipython",
    "version": 3
   },
   "file_extension": ".py",
   "mimetype": "text/x-python",
   "name": "python",
   "nbconvert_exporter": "python",
   "pygments_lexer": "ipython3",
   "version": "3.6.8"
  }
 },
 "nbformat": 4,
 "nbformat_minor": 2
}
